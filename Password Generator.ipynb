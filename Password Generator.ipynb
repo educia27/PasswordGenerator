{
 "cells": [
  {
   "cell_type": "code",
   "execution_count": 1,
   "id": "3a1a6f88",
   "metadata": {},
   "outputs": [],
   "source": [
    "import string\n",
    "import random\n",
    "#importing modules"
   ]
  },
  {
   "cell_type": "code",
   "execution_count": 2,
   "id": "f30abcfc",
   "metadata": {},
   "outputs": [],
   "source": [
    "s1 = string.ascii_lowercase #string module allows for collection of letters , digits and symbols\n",
    "s2 = string.ascii_uppercase\n",
    "s3 = string.digits\n",
    "s4 = string.punctuation"
   ]
  },
  {
   "cell_type": "code",
   "execution_count": 4,
   "id": "a7f0c57c",
   "metadata": {},
   "outputs": [
    {
     "name": "stdout",
     "output_type": "stream",
     "text": [
      "Enter password length: 8\n"
     ]
    }
   ],
   "source": [
    "plen = int(input(\"Enter password length: \")) #input function allowing user input"
   ]
  },
  {
   "cell_type": "code",
   "execution_count": 5,
   "id": "14be7be4",
   "metadata": {},
   "outputs": [],
   "source": [
    "s = []\n",
    "s.extend(list(s1)) #extend method adds to the list for all characters that is referenced by variable S \n",
    "s.extend(list(s2))\n",
    "s.extend(list(s3))\n",
    "s.extend(list(s4))"
   ]
  },
  {
   "cell_type": "code",
   "execution_count": 6,
   "id": "6fee3832",
   "metadata": {},
   "outputs": [
    {
     "name": "stdout",
     "output_type": "stream",
     "text": [
      "['a', 'b', 'c', 'd', 'e', 'f', 'g', 'h', 'i', 'j', 'k', 'l', 'm', 'n', 'o', 'p', 'q', 'r', 's', 't', 'u', 'v', 'w', 'x', 'y', 'z', 'A', 'B', 'C', 'D', 'E', 'F', 'G', 'H', 'I', 'J', 'K', 'L', 'M', 'N', 'O', 'P', 'Q', 'R', 'S', 'T', 'U', 'V', 'W', 'X', 'Y', 'Z', '0', '1', '2', '3', '4', '5', '6', '7', '8', '9', '!', '\"', '#', '$', '%', '&', \"'\", '(', ')', '*', '+', ',', '-', '.', '/', ':', ';', '<', '=', '>', '?', '@', '[', '\\\\', ']', '^', '_', '`', '{', '|', '}', '~']\n"
     ]
    }
   ],
   "source": [
    "print (s)"
   ]
  },
  {
   "cell_type": "code",
   "execution_count": 7,
   "id": "de7128dc",
   "metadata": {},
   "outputs": [
    {
     "name": "stdout",
     "output_type": "stream",
     "text": [
      "Your password: UIy-Z^c{\n"
     ]
    }
   ],
   "source": [
    "print(\"Your password: \", end=\"\")\n",
    "print(\"\".join(random.sample(s, plen)))"
   ]
  },
  {
   "cell_type": "code",
   "execution_count": null,
   "id": "05035321",
   "metadata": {},
   "outputs": [],
   "source": []
  }
 ],
 "metadata": {
  "kernelspec": {
   "display_name": "Python 3",
   "language": "python",
   "name": "python3"
  },
  "language_info": {
   "codemirror_mode": {
    "name": "ipython",
    "version": 3
   },
   "file_extension": ".py",
   "mimetype": "text/x-python",
   "name": "python",
   "nbconvert_exporter": "python",
   "pygments_lexer": "ipython3",
   "version": "3.8.8"
  }
 },
 "nbformat": 4,
 "nbformat_minor": 5
}
